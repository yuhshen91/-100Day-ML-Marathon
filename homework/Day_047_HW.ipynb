{
 "cells": [
  {
   "cell_type": "markdown",
   "metadata": {},
   "source": [
    "## [作業重點]\n",
    "了解如何使用 Sklearn 中的 hyper-parameter search 找出最佳的超參數"
   ]
  },
  {
   "cell_type": "markdown",
   "metadata": {},
   "source": [
    "### 作業\n",
    "請使用不同的資料集，並使用 hyper-parameter search 的方式，看能不能找出最佳的超參數組合"
   ]
  },
  {
   "cell_type": "code",
   "execution_count": 1,
   "metadata": {},
   "outputs": [
    {
     "name": "stderr",
     "output_type": "stream",
     "text": [
      "D:\\ProgramData\\Anaconda3\\lib\\site-packages\\sklearn\\ensemble\\weight_boosting.py:29: DeprecationWarning: numpy.core.umath_tests is an internal NumPy module and should not be imported. It will be removed in a future NumPy release.\n",
      "  from numpy.core.umath_tests import inner1d\n"
     ]
    }
   ],
   "source": [
    "from sklearn import datasets,metrics\n",
    "from sklearn.model_selection import train_test_split, KFold,GridSearchCV\n",
    "from sklearn.ensemble import RandomForestRegressor,GradientBoostingRegressor"
   ]
  },
  {
   "cell_type": "code",
   "execution_count": 2,
   "metadata": {},
   "outputs": [],
   "source": [
    "iris=datasets.load_iris()"
   ]
  },
  {
   "cell_type": "code",
   "execution_count": 3,
   "metadata": {},
   "outputs": [
    {
     "name": "stdout",
     "output_type": "stream",
     "text": [
      "MSE:  0.06028571428571431\n"
     ]
    }
   ],
   "source": [
    "train_X,test_X,train_y,test_y=train_test_split(iris.data,iris.target,test_size=0.23,random_state=5)\n",
    "rfr=RandomForestRegressor(random_state=7)\n",
    "rfr.fit(train_X,train_y)\n",
    "y_pred=rfr.predict(test_X)\n",
    "acc=metrics.mean_squared_error(test_y,y_pred)\n",
    "print(\"MSE: \",acc)"
   ]
  },
  {
   "cell_type": "code",
   "execution_count": 4,
   "metadata": {},
   "outputs": [
    {
     "name": "stdout",
     "output_type": "stream",
     "text": [
      "MSE:  0.04285714285714286\n"
     ]
    }
   ],
   "source": [
    "gbr=RandomForestRegressor(random_state=6)\n",
    "gbr.fit(train_X,train_y)\n",
    "y_pred=gbr.predict(test_X)\n",
    "acc=metrics.mean_squared_error(test_y,y_pred)\n",
    "print(\"MSE: \",acc)"
   ]
  },
  {
   "cell_type": "code",
   "execution_count": 5,
   "metadata": {},
   "outputs": [
    {
     "name": "stdout",
     "output_type": "stream",
     "text": [
      "Fitting 3 folds for each of 16 candidates, totalling 48 fits\n"
     ]
    },
    {
     "name": "stderr",
     "output_type": "stream",
     "text": [
      "[Parallel(n_jobs=-1)]: Done  48 out of  48 | elapsed:    4.6s finished\n"
     ]
    },
    {
     "name": "stdout",
     "output_type": "stream",
     "text": [
      "The score is -0.029322 when using {'max_depth': 3, 'n_estimators': 300}\n"
     ]
    }
   ],
   "source": [
    "n_estimators=[10,100,300,300]\n",
    "max_depth=[1,3,5,100]\n",
    "param_grid=dict(n_estimators=n_estimators,max_depth=max_depth)\n",
    "GridSearch=GridSearchCV(rfr,param_grid,scoring=\"neg_mean_squared_error\",n_jobs=-1,verbose=1)\n",
    "grid_result=GridSearch.fit(train_X,train_y)\n",
    "print(\"The score is %f when using %s\"%(grid_result.best_score_,grid_result.best_params_))"
   ]
  },
  {
   "cell_type": "code",
   "execution_count": 6,
   "metadata": {},
   "outputs": [
    {
     "name": "stdout",
     "output_type": "stream",
     "text": [
      "MSE:  0.049963650060724805\n"
     ]
    }
   ],
   "source": [
    "rfr_best=RandomForestRegressor(max_depth=grid_result.best_params_[\"max_depth\"],n_estimators=grid_result.best_params_[\"n_estimators\"],random_state=40)\n",
    "rfr_best.fit(train_X,train_y)\n",
    "y_pred=rfr_best.predict(test_X)\n",
    "acc=metrics.mean_squared_error(test_y,y_pred)\n",
    "print(\"MSE: \",acc)"
   ]
  },
  {
   "cell_type": "code",
   "execution_count": 7,
   "metadata": {},
   "outputs": [
    {
     "name": "stdout",
     "output_type": "stream",
     "text": [
      "Fitting 3 folds for each of 16 candidates, totalling 48 fits\n"
     ]
    },
    {
     "name": "stderr",
     "output_type": "stream",
     "text": [
      "[Parallel(n_jobs=-1)]: Done  48 out of  48 | elapsed:    4.7s finished\n"
     ]
    },
    {
     "name": "stdout",
     "output_type": "stream",
     "text": [
      "The score is -0.029322 when using {'max_depth': 3, 'n_estimators': 300}\n"
     ]
    }
   ],
   "source": [
    "GridSearch_gbr=GridSearchCV(gbr,param_grid,scoring=\"neg_mean_squared_error\",n_jobs=-1,verbose=1)\n",
    "grid_result_gbr=GridSearch.fit(train_X,train_y)\n",
    "print(\"The score is %f when using %s\"%(grid_result.best_score_,grid_result.best_params_))"
   ]
  },
  {
   "cell_type": "code",
   "execution_count": 8,
   "metadata": {},
   "outputs": [
    {
     "name": "stdout",
     "output_type": "stream",
     "text": [
      "MSE:  0.05039616229143279\n"
     ]
    }
   ],
   "source": [
    "gbr_best=RandomForestRegressor(max_depth=grid_result.best_params_[\"max_depth\"],n_estimators=grid_result.best_params_[\"n_estimators\"],random_state=41)\n",
    "gbr_best.fit(train_X,train_y)\n",
    "y_pred=gbr_best.predict(test_X)\n",
    "acc=metrics.mean_squared_error(test_y,y_pred)\n",
    "print(\"MSE: \",acc)"
   ]
  },
  {
   "cell_type": "code",
   "execution_count": null,
   "metadata": {},
   "outputs": [],
   "source": []
  }
 ],
 "metadata": {
  "kernelspec": {
   "display_name": "Python 3",
   "language": "python",
   "name": "python3"
  },
  "language_info": {
   "codemirror_mode": {
    "name": "ipython",
    "version": 3
   },
   "file_extension": ".py",
   "mimetype": "text/x-python",
   "name": "python",
   "nbconvert_exporter": "python",
   "pygments_lexer": "ipython3",
   "version": "3.7.0"
  }
 },
 "nbformat": 4,
 "nbformat_minor": 2
}
