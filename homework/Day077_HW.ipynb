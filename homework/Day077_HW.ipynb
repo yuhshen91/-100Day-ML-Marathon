{
 "cells": [
  {
   "cell_type": "markdown",
   "metadata": {},
   "source": [
    "## Work\n",
    "1. 請將 Epoch 加到 500 個，並觀察 learning curve 的走勢\n",
    "2. 請將 Optimizer 換成 SGD，並觀察 learning curve 的走勢"
   ]
  },
  {
   "cell_type": "code",
   "execution_count": 1,
   "metadata": {},
   "outputs": [
    {
     "name": "stderr",
     "output_type": "stream",
     "text": [
      "Using TensorFlow backend.\n"
     ]
    }
   ],
   "source": [
    "import os\n",
    "import keras\n",
    "\n",
    "# 本作業可以不需使用 GPU, 將 GPU 設定為 \"無\" (若有 GPU 且想開啟，可設為 \"0\")\n",
    "os.environ[\"CUDA_VISIBLE_DEVICES\"] = \"\""
   ]
  },
  {
   "cell_type": "code",
   "execution_count": 2,
   "metadata": {},
   "outputs": [],
   "source": [
    "# 從 Keras 的內建功能中，取得 train 與 test 資料集\n",
    "train, test = keras.datasets.cifar10.load_data()"
   ]
  },
  {
   "cell_type": "code",
   "execution_count": 3,
   "metadata": {},
   "outputs": [],
   "source": [
    "# 將 X 與 Y 獨立放進變數\n",
    "x_train, y_train = train\n",
    "x_test, y_test = test\n",
    "# 資料前處理 - 標準化\n",
    "x_train = x_train / 255.\n",
    "x_test = x_test / 255.\n",
    "\n",
    "# 將資料從圖形 (RGB) 轉為向量 (Single Vector)\n",
    "x_train = x_train.reshape((len(x_train), -1))\n",
    "x_test = x_test.reshape((len(x_test), -1))\n",
    "\n",
    "# 將目標轉為 one-hot encoding\n",
    "y_train = keras.utils.to_categorical(y_train, num_classes=10)\n",
    "y_test = keras.utils.to_categorical(y_test, num_classes=10)"
   ]
  },
  {
   "cell_type": "code",
   "execution_count": 4,
   "metadata": {},
   "outputs": [
    {
     "name": "stdout",
     "output_type": "stream",
     "text": [
      "WARNING:tensorflow:From D:\\ProgramData\\Anaconda3\\lib\\site-packages\\tensorflow_core\\python\\ops\\resource_variable_ops.py:1630: calling BaseResourceVariable.__init__ (from tensorflow.python.ops.resource_variable_ops) with constraint is deprecated and will be removed in a future version.\n",
      "Instructions for updating:\n",
      "If using Keras pass *_constraint arguments to layers.\n"
     ]
    },
    {
     "name": "stderr",
     "output_type": "stream",
     "text": [
      "D:\\ProgramData\\Anaconda3\\lib\\site-packages\\ipykernel_launcher.py:7: UserWarning: Update your `Model` call to the Keras 2 API: `Model(inputs=[<tf.Tenso..., outputs=[<tf.Tenso...)`\n",
      "  import sys\n"
     ]
    }
   ],
   "source": [
    "def build_mlp():\n",
    "    input_layer=keras.layers.Input([x_train.shape[-1]])\n",
    "    x=keras.layers.Dense(activation=\"relu\",units=512)(input_layer)\n",
    "    x=keras.layers.Dense(units=256, activation=\"relu\")(x)\n",
    "    x=keras.layers.Dense(units=128, activation=\"relu\")(x)\n",
    "    out=keras.layers.Dense(units=10,activation=\"softmax\")(x)\n",
    "    model=keras.models.Model(input=[input_layer],output=[out])\n",
    "    return model\n",
    "model = build_mlp()"
   ]
  },
  {
   "cell_type": "code",
   "execution_count": 9,
   "metadata": {},
   "outputs": [
    {
     "name": "stdout",
     "output_type": "stream",
     "text": [
      "Model: \"model_1\"\n",
      "_________________________________________________________________\n",
      "Layer (type)                 Output Shape              Param #   \n",
      "=================================================================\n",
      "input_1 (InputLayer)         (None, 3072)              0         \n",
      "_________________________________________________________________\n",
      "dense_1 (Dense)              (None, 512)               1573376   \n",
      "_________________________________________________________________\n",
      "dense_2 (Dense)              (None, 256)               131328    \n",
      "_________________________________________________________________\n",
      "dense_3 (Dense)              (None, 128)               32896     \n",
      "_________________________________________________________________\n",
      "dense_4 (Dense)              (None, 10)                1290      \n",
      "=================================================================\n",
      "Total params: 1,738,890\n",
      "Trainable params: 1,738,890\n",
      "Non-trainable params: 0\n",
      "_________________________________________________________________\n"
     ]
    }
   ],
   "source": [
    "\"\"\"\n",
    "Compile 模型\n",
    "\"\"\"\n",
    "#import tensorflow as tf\n",
    "#with tf.device(\"/cpu:0\"):\n",
    "model.compile(optimizer=keras.optimizers.SGD(lr=0.001),loss=\"categorical_crossentropy\",metrics=[\"accuracy\"])\n",
    "model.summary()"
   ]
  },
  {
   "cell_type": "code",
   "execution_count": 10,
   "metadata": {
    "scrolled": true
   },
   "outputs": [
    {
     "name": "stdout",
     "output_type": "stream",
     "text": [
      "Train on 50000 samples, validate on 10000 samples\n",
      "Epoch 1/100\n",
      "50000/50000 [==============================] - 3s 65us/step - loss: 0.1991 - accuracy: 0.9329 - val_loss: 3.1743 - val_accuracy: 0.5076\n",
      "Epoch 2/100\n",
      "50000/50000 [==============================] - 3s 63us/step - loss: 0.1642 - accuracy: 0.9485 - val_loss: 3.1594 - val_accuracy: 0.5095\n",
      "Epoch 3/100\n",
      "50000/50000 [==============================] - 3s 62us/step - loss: 0.1536 - accuracy: 0.9540 - val_loss: 3.1565 - val_accuracy: 0.5108\n",
      "Epoch 4/100\n",
      "50000/50000 [==============================] - 3s 62us/step - loss: 0.1476 - accuracy: 0.9563 - val_loss: 3.1562 - val_accuracy: 0.5122\n",
      "Epoch 5/100\n",
      "50000/50000 [==============================] - 3s 63us/step - loss: 0.1436 - accuracy: 0.9582 - val_loss: 3.1576 - val_accuracy: 0.5116\n",
      "Epoch 6/100\n",
      "50000/50000 [==============================] - 3s 62us/step - loss: 0.1406 - accuracy: 0.9595 - val_loss: 3.1599 - val_accuracy: 0.5120\n",
      "Epoch 7/100\n",
      "50000/50000 [==============================] - 3s 63us/step - loss: 0.1381 - accuracy: 0.9605 - val_loss: 3.1621 - val_accuracy: 0.5125\n",
      "Epoch 8/100\n",
      "50000/50000 [==============================] - 3s 63us/step - loss: 0.1361 - accuracy: 0.9619 - val_loss: 3.1661 - val_accuracy: 0.5137\n",
      "Epoch 9/100\n",
      "50000/50000 [==============================] - 3s 63us/step - loss: 0.1344 - accuracy: 0.9620 - val_loss: 3.1697 - val_accuracy: 0.5141\n",
      "Epoch 10/100\n",
      "50000/50000 [==============================] - 3s 62us/step - loss: 0.1328 - accuracy: 0.9633 - val_loss: 3.1737 - val_accuracy: 0.5143\n",
      "Epoch 11/100\n",
      "50000/50000 [==============================] - 3s 64us/step - loss: 0.1315 - accuracy: 0.9636 - val_loss: 3.1789 - val_accuracy: 0.5145\n",
      "Epoch 12/100\n",
      "50000/50000 [==============================] - 3s 63us/step - loss: 0.1303 - accuracy: 0.9640 - val_loss: 3.1803 - val_accuracy: 0.5150\n",
      "Epoch 13/100\n",
      "50000/50000 [==============================] - 3s 64us/step - loss: 0.1291 - accuracy: 0.9647 - val_loss: 3.1840 - val_accuracy: 0.5155\n",
      "Epoch 14/100\n",
      "50000/50000 [==============================] - 3s 63us/step - loss: 0.1281 - accuracy: 0.9649 - val_loss: 3.1894 - val_accuracy: 0.5152\n",
      "Epoch 15/100\n",
      "50000/50000 [==============================] - 3s 63us/step - loss: 0.1272 - accuracy: 0.9652 - val_loss: 3.1921 - val_accuracy: 0.5152\n",
      "Epoch 16/100\n",
      "50000/50000 [==============================] - 3s 62us/step - loss: 0.1263 - accuracy: 0.9653 - val_loss: 3.1956 - val_accuracy: 0.5150\n",
      "Epoch 17/100\n",
      "50000/50000 [==============================] - 3s 63us/step - loss: 0.1255 - accuracy: 0.9656 - val_loss: 3.2002 - val_accuracy: 0.5149\n",
      "Epoch 18/100\n",
      "50000/50000 [==============================] - 3s 63us/step - loss: 0.1247 - accuracy: 0.9660 - val_loss: 3.2039 - val_accuracy: 0.5146\n",
      "Epoch 19/100\n",
      "50000/50000 [==============================] - 3s 63us/step - loss: 0.1240 - accuracy: 0.9662 - val_loss: 3.2063 - val_accuracy: 0.5145\n",
      "Epoch 20/100\n",
      "50000/50000 [==============================] - 3s 63us/step - loss: 0.1233 - accuracy: 0.9665 - val_loss: 3.2089 - val_accuracy: 0.5146\n",
      "Epoch 21/100\n",
      "50000/50000 [==============================] - 3s 64us/step - loss: 0.1227 - accuracy: 0.9667 - val_loss: 3.2130 - val_accuracy: 0.5144\n",
      "Epoch 22/100\n",
      "50000/50000 [==============================] - 3s 63us/step - loss: 0.1221 - accuracy: 0.9669 - val_loss: 3.2160 - val_accuracy: 0.5147\n",
      "Epoch 23/100\n",
      "50000/50000 [==============================] - 3s 63us/step - loss: 0.1214 - accuracy: 0.9672 - val_loss: 3.2195 - val_accuracy: 0.5146\n",
      "Epoch 24/100\n",
      "50000/50000 [==============================] - 3s 62us/step - loss: 0.1209 - accuracy: 0.9677 - val_loss: 3.2222 - val_accuracy: 0.5147\n",
      "Epoch 25/100\n",
      "50000/50000 [==============================] - 3s 62us/step - loss: 0.1204 - accuracy: 0.9678 - val_loss: 3.2259 - val_accuracy: 0.5142\n",
      "Epoch 26/100\n",
      "50000/50000 [==============================] - 3s 63us/step - loss: 0.1198 - accuracy: 0.9679 - val_loss: 3.2285 - val_accuracy: 0.5141\n",
      "Epoch 27/100\n",
      "50000/50000 [==============================] - 3s 61us/step - loss: 0.1194 - accuracy: 0.9682 - val_loss: 3.2323 - val_accuracy: 0.5146\n",
      "Epoch 28/100\n",
      "50000/50000 [==============================] - 3s 63us/step - loss: 0.1189 - accuracy: 0.9686 - val_loss: 3.2340 - val_accuracy: 0.5139\n",
      "Epoch 29/100\n",
      "50000/50000 [==============================] - 3s 62us/step - loss: 0.1185 - accuracy: 0.9686 - val_loss: 3.2377 - val_accuracy: 0.5138\n",
      "Epoch 30/100\n",
      "50000/50000 [==============================] - 3s 62us/step - loss: 0.1180 - accuracy: 0.9687 - val_loss: 3.2406 - val_accuracy: 0.5145\n",
      "Epoch 31/100\n",
      "50000/50000 [==============================] - 3s 63us/step - loss: 0.1176 - accuracy: 0.9689 - val_loss: 3.2431 - val_accuracy: 0.5136\n",
      "Epoch 32/100\n",
      "50000/50000 [==============================] - 3s 62us/step - loss: 0.1172 - accuracy: 0.9689 - val_loss: 3.2456 - val_accuracy: 0.5135\n",
      "Epoch 33/100\n",
      "50000/50000 [==============================] - 3s 62us/step - loss: 0.1168 - accuracy: 0.9691 - val_loss: 3.2489 - val_accuracy: 0.5139\n",
      "Epoch 34/100\n",
      "50000/50000 [==============================] - 3s 63us/step - loss: 0.1164 - accuracy: 0.9692 - val_loss: 3.2507 - val_accuracy: 0.5136\n",
      "Epoch 35/100\n",
      "50000/50000 [==============================] - 3s 62us/step - loss: 0.1160 - accuracy: 0.9695 - val_loss: 3.2543 - val_accuracy: 0.5135\n",
      "Epoch 36/100\n",
      "50000/50000 [==============================] - 3s 63us/step - loss: 0.1156 - accuracy: 0.9694 - val_loss: 3.2565 - val_accuracy: 0.5135\n",
      "Epoch 37/100\n",
      "50000/50000 [==============================] - 3s 64us/step - loss: 0.1153 - accuracy: 0.9698 - val_loss: 3.2594 - val_accuracy: 0.5133\n",
      "Epoch 38/100\n",
      "50000/50000 [==============================] - 3s 63us/step - loss: 0.1149 - accuracy: 0.9698 - val_loss: 3.2622 - val_accuracy: 0.5142\n",
      "Epoch 39/100\n",
      "50000/50000 [==============================] - 3s 63us/step - loss: 0.1146 - accuracy: 0.9700 - val_loss: 3.2650 - val_accuracy: 0.5140\n",
      "Epoch 40/100\n",
      "50000/50000 [==============================] - 3s 63us/step - loss: 0.1143 - accuracy: 0.9702 - val_loss: 3.2673 - val_accuracy: 0.5138\n",
      "Epoch 41/100\n",
      "50000/50000 [==============================] - 3s 64us/step - loss: 0.1139 - accuracy: 0.9703 - val_loss: 3.2700 - val_accuracy: 0.5139\n",
      "Epoch 42/100\n",
      "50000/50000 [==============================] - 3s 64us/step - loss: 0.1136 - accuracy: 0.9702 - val_loss: 3.2718 - val_accuracy: 0.5143\n",
      "Epoch 43/100\n",
      "50000/50000 [==============================] - 3s 62us/step - loss: 0.1133 - accuracy: 0.9706 - val_loss: 3.2744 - val_accuracy: 0.5142\n",
      "Epoch 44/100\n",
      "50000/50000 [==============================] - 3s 63us/step - loss: 0.1130 - accuracy: 0.9706 - val_loss: 3.2767 - val_accuracy: 0.5137\n",
      "Epoch 45/100\n",
      "50000/50000 [==============================] - 3s 64us/step - loss: 0.1127 - accuracy: 0.9709 - val_loss: 3.2780 - val_accuracy: 0.5132\n",
      "Epoch 46/100\n",
      "50000/50000 [==============================] - 3s 63us/step - loss: 0.1124 - accuracy: 0.9709 - val_loss: 3.2807 - val_accuracy: 0.5143\n",
      "Epoch 47/100\n",
      "50000/50000 [==============================] - 3s 63us/step - loss: 0.1121 - accuracy: 0.9709 - val_loss: 3.2827 - val_accuracy: 0.5135\n",
      "Epoch 48/100\n",
      "50000/50000 [==============================] - 3s 61us/step - loss: 0.1118 - accuracy: 0.9710 - val_loss: 3.2855 - val_accuracy: 0.5137\n",
      "Epoch 49/100\n",
      "50000/50000 [==============================] - 3s 62us/step - loss: 0.1116 - accuracy: 0.9710 - val_loss: 3.2872 - val_accuracy: 0.5133\n",
      "Epoch 50/100\n",
      "50000/50000 [==============================] - 3s 62us/step - loss: 0.1113 - accuracy: 0.9713 - val_loss: 3.2898 - val_accuracy: 0.5130\n",
      "Epoch 51/100\n",
      "50000/50000 [==============================] - 3s 61us/step - loss: 0.1110 - accuracy: 0.9713 - val_loss: 3.2921 - val_accuracy: 0.5132\n",
      "Epoch 52/100\n",
      "50000/50000 [==============================] - 3s 61us/step - loss: 0.1107 - accuracy: 0.9715 - val_loss: 3.2940 - val_accuracy: 0.5135\n",
      "Epoch 53/100\n",
      "50000/50000 [==============================] - 3s 62us/step - loss: 0.1105 - accuracy: 0.9718 - val_loss: 3.2965 - val_accuracy: 0.5135\n",
      "Epoch 54/100\n",
      "50000/50000 [==============================] - 3s 62us/step - loss: 0.1102 - accuracy: 0.9718 - val_loss: 3.2980 - val_accuracy: 0.5133\n",
      "Epoch 55/100\n",
      "50000/50000 [==============================] - 3s 61us/step - loss: 0.1100 - accuracy: 0.9720 - val_loss: 3.3005 - val_accuracy: 0.5133\n"
     ]
    },
    {
     "name": "stdout",
     "output_type": "stream",
     "text": [
      "Epoch 56/100\n",
      "50000/50000 [==============================] - 3s 61us/step - loss: 0.1098 - accuracy: 0.9719 - val_loss: 3.3016 - val_accuracy: 0.5132\n",
      "Epoch 57/100\n",
      "50000/50000 [==============================] - 3s 62us/step - loss: 0.1095 - accuracy: 0.9720 - val_loss: 3.3037 - val_accuracy: 0.5127\n",
      "Epoch 58/100\n",
      "50000/50000 [==============================] - 3s 63us/step - loss: 0.1093 - accuracy: 0.9720 - val_loss: 3.3061 - val_accuracy: 0.5130\n",
      "Epoch 59/100\n",
      "50000/50000 [==============================] - 3s 62us/step - loss: 0.1090 - accuracy: 0.9723 - val_loss: 3.3088 - val_accuracy: 0.5134\n",
      "Epoch 60/100\n",
      "50000/50000 [==============================] - 3s 62us/step - loss: 0.1088 - accuracy: 0.9723 - val_loss: 3.3104 - val_accuracy: 0.5129\n",
      "Epoch 61/100\n",
      "50000/50000 [==============================] - 3s 61us/step - loss: 0.1086 - accuracy: 0.9725 - val_loss: 3.3132 - val_accuracy: 0.5127\n",
      "Epoch 62/100\n",
      "50000/50000 [==============================] - 3s 61us/step - loss: 0.1084 - accuracy: 0.9725 - val_loss: 3.3149 - val_accuracy: 0.5126\n",
      "Epoch 63/100\n",
      "50000/50000 [==============================] - 3s 62us/step - loss: 0.1081 - accuracy: 0.9725 - val_loss: 3.3158 - val_accuracy: 0.5129\n",
      "Epoch 64/100\n",
      "50000/50000 [==============================] - 3s 62us/step - loss: 0.1079 - accuracy: 0.9723 - val_loss: 3.3169 - val_accuracy: 0.5127\n",
      "Epoch 65/100\n",
      "50000/50000 [==============================] - 3s 62us/step - loss: 0.1077 - accuracy: 0.9725 - val_loss: 3.3201 - val_accuracy: 0.5131\n",
      "Epoch 66/100\n",
      "50000/50000 [==============================] - 3s 61us/step - loss: 0.1075 - accuracy: 0.9729 - val_loss: 3.3211 - val_accuracy: 0.5117\n",
      "Epoch 67/100\n",
      "50000/50000 [==============================] - 3s 62us/step - loss: 0.1073 - accuracy: 0.9726 - val_loss: 3.3249 - val_accuracy: 0.5128\n",
      "Epoch 68/100\n",
      "50000/50000 [==============================] - 3s 62us/step - loss: 0.1071 - accuracy: 0.9730 - val_loss: 3.3266 - val_accuracy: 0.5122\n",
      "Epoch 69/100\n",
      "50000/50000 [==============================] - 3s 60us/step - loss: 0.1068 - accuracy: 0.9729 - val_loss: 3.3281 - val_accuracy: 0.5121\n",
      "Epoch 70/100\n",
      "50000/50000 [==============================] - 3s 60us/step - loss: 0.1066 - accuracy: 0.9732 - val_loss: 3.3297 - val_accuracy: 0.5122\n",
      "Epoch 71/100\n",
      "50000/50000 [==============================] - 3s 62us/step - loss: 0.1064 - accuracy: 0.9731 - val_loss: 3.3311 - val_accuracy: 0.5120\n",
      "Epoch 72/100\n",
      "50000/50000 [==============================] - 3s 61us/step - loss: 0.1063 - accuracy: 0.9734 - val_loss: 3.3339 - val_accuracy: 0.5120\n",
      "Epoch 73/100\n",
      "50000/50000 [==============================] - 3s 61us/step - loss: 0.1060 - accuracy: 0.9734 - val_loss: 3.3355 - val_accuracy: 0.5113\n",
      "Epoch 74/100\n",
      "50000/50000 [==============================] - 3s 61us/step - loss: 0.1059 - accuracy: 0.9732 - val_loss: 3.3359 - val_accuracy: 0.5125\n",
      "Epoch 75/100\n",
      "50000/50000 [==============================] - 3s 61us/step - loss: 0.1057 - accuracy: 0.9737 - val_loss: 3.3392 - val_accuracy: 0.5117\n",
      "Epoch 76/100\n",
      "50000/50000 [==============================] - 3s 61us/step - loss: 0.1055 - accuracy: 0.9735 - val_loss: 3.3407 - val_accuracy: 0.5129\n",
      "Epoch 77/100\n",
      "50000/50000 [==============================] - 3s 63us/step - loss: 0.1053 - accuracy: 0.9736 - val_loss: 3.3421 - val_accuracy: 0.5123\n",
      "Epoch 78/100\n",
      "50000/50000 [==============================] - 3s 61us/step - loss: 0.1051 - accuracy: 0.9735 - val_loss: 3.3437 - val_accuracy: 0.5119\n",
      "Epoch 79/100\n",
      "50000/50000 [==============================] - 3s 61us/step - loss: 0.1049 - accuracy: 0.9738 - val_loss: 3.3465 - val_accuracy: 0.5119\n",
      "Epoch 80/100\n",
      "50000/50000 [==============================] - 3s 62us/step - loss: 0.1047 - accuracy: 0.9740 - val_loss: 3.3477 - val_accuracy: 0.5126\n",
      "Epoch 81/100\n",
      "50000/50000 [==============================] - 3s 60us/step - loss: 0.1045 - accuracy: 0.9738 - val_loss: 3.3494 - val_accuracy: 0.5130\n",
      "Epoch 82/100\n",
      "50000/50000 [==============================] - 3s 62us/step - loss: 0.1044 - accuracy: 0.9739 - val_loss: 3.3514 - val_accuracy: 0.5123\n",
      "Epoch 83/100\n",
      "50000/50000 [==============================] - 3s 60us/step - loss: 0.1042 - accuracy: 0.9740 - val_loss: 3.3524 - val_accuracy: 0.5126\n",
      "Epoch 84/100\n",
      "50000/50000 [==============================] - 3s 61us/step - loss: 0.1040 - accuracy: 0.9741 - val_loss: 3.3551 - val_accuracy: 0.5123\n",
      "Epoch 85/100\n",
      "50000/50000 [==============================] - 3s 61us/step - loss: 0.1038 - accuracy: 0.9740 - val_loss: 3.3564 - val_accuracy: 0.5118\n",
      "Epoch 86/100\n",
      "50000/50000 [==============================] - 3s 63us/step - loss: 0.1037 - accuracy: 0.9741 - val_loss: 3.3580 - val_accuracy: 0.5127\n",
      "Epoch 87/100\n",
      "50000/50000 [==============================] - 3s 62us/step - loss: 0.1035 - accuracy: 0.9741 - val_loss: 3.3597 - val_accuracy: 0.5121\n",
      "Epoch 88/100\n",
      "50000/50000 [==============================] - 3s 62us/step - loss: 0.1033 - accuracy: 0.9743 - val_loss: 3.3604 - val_accuracy: 0.5123\n",
      "Epoch 89/100\n",
      "50000/50000 [==============================] - 3s 62us/step - loss: 0.1031 - accuracy: 0.9744 - val_loss: 3.3635 - val_accuracy: 0.5119\n",
      "Epoch 90/100\n",
      "50000/50000 [==============================] - 3s 63us/step - loss: 0.1030 - accuracy: 0.9742 - val_loss: 3.3650 - val_accuracy: 0.5123\n",
      "Epoch 91/100\n",
      "50000/50000 [==============================] - 3s 62us/step - loss: 0.1028 - accuracy: 0.9745 - val_loss: 3.3668 - val_accuracy: 0.5123\n",
      "Epoch 92/100\n",
      "50000/50000 [==============================] - 3s 62us/step - loss: 0.1027 - accuracy: 0.9745 - val_loss: 3.3683 - val_accuracy: 0.5124\n",
      "Epoch 93/100\n",
      "50000/50000 [==============================] - 3s 61us/step - loss: 0.1025 - accuracy: 0.9745 - val_loss: 3.3695 - val_accuracy: 0.5119\n",
      "Epoch 94/100\n",
      "50000/50000 [==============================] - 3s 62us/step - loss: 0.1023 - accuracy: 0.9745 - val_loss: 3.3717 - val_accuracy: 0.5122\n",
      "Epoch 95/100\n",
      "50000/50000 [==============================] - 3s 62us/step - loss: 0.1021 - accuracy: 0.9747 - val_loss: 3.3731 - val_accuracy: 0.5114\n",
      "Epoch 96/100\n",
      "50000/50000 [==============================] - 3s 63us/step - loss: 0.1020 - accuracy: 0.9744 - val_loss: 3.3752 - val_accuracy: 0.5116\n",
      "Epoch 97/100\n",
      "50000/50000 [==============================] - 3s 63us/step - loss: 0.1018 - accuracy: 0.9748 - val_loss: 3.3771 - val_accuracy: 0.5120\n",
      "Epoch 98/100\n",
      "50000/50000 [==============================] - 3s 65us/step - loss: 0.1017 - accuracy: 0.9750 - val_loss: 3.3780 - val_accuracy: 0.5119\n",
      "Epoch 99/100\n",
      "50000/50000 [==============================] - 3s 64us/step - loss: 0.1015 - accuracy: 0.9748 - val_loss: 3.3786 - val_accuracy: 0.5119\n",
      "Epoch 100/100\n",
      "50000/50000 [==============================] - 3s 64us/step - loss: 0.1013 - accuracy: 0.9749 - val_loss: 3.3798 - val_accuracy: 0.5119\n"
     ]
    },
    {
     "data": {
      "text/plain": [
       "<keras.callbacks.callbacks.History at 0x1dd81091388>"
      ]
     },
     "execution_count": 10,
     "metadata": {},
     "output_type": "execute_result"
    }
   ],
   "source": [
    "\n",
    "model.fit(x_train, y_train, \n",
    "          epochs=100, \n",
    "          batch_size=256, \n",
    "          validation_data=(x_test, y_test), \n",
    "          shuffle=True)"
   ]
  },
  {
   "cell_type": "code",
   "execution_count": 8,
   "metadata": {},
   "outputs": [
    {
     "data": {
      "image/png": "[encoded data removed]",
      "text/plain": [
       "<Figure size 432x288 with 1 Axes>"
      ]
     },
     "metadata": {
      "needs_background": "light"
     },
     "output_type": "display_data"
    },
    {
     "data": {
      "image/png": "[encoded data removed]",
      "text/plain": [
       "<Figure size 432x288 with 1 Axes>"
      ]
     },
     "metadata": {
      "needs_background": "light"
     },
     "output_type": "display_data"
    }
   ],
   "source": [
    "import matplotlib.pyplot as plt\n",
    "# 以視覺畫方式檢視訓練過程\n",
    "\n",
    "train_loss = model.history.history[\"loss\"]\n",
    "valid_loss = model.history.history[\"val_loss\"]\n",
    "\n",
    "train_acc = model.history.history[\"accuracy\"]\n",
    "valid_acc = model.history.history[\"val_accuracy\"]\n",
    "\n",
    "plt.plot(range(len(train_loss)), train_loss, label=\"train loss\")\n",
    "plt.plot(range(len(valid_loss)), valid_loss, label=\"valid loss\")\n",
    "plt.legend()\n",
    "plt.title(\"Loss\")\n",
    "plt.show()\n",
    "\n",
    "plt.plot(range(len(train_acc)), train_acc, label=\"train accuracy\")\n",
    "plt.plot(range(len(valid_acc)), valid_acc, label=\"valid accuracy\")\n",
    "plt.legend()\n",
    "plt.title(\"Accuracy\")\n",
    "plt.show()"
   ]
  },
  {
   "cell_type": "code",
   "execution_count": 11,
   "metadata": {},
   "outputs": [
    {
     "data": {
      "image/png": "[encoded data removed]",
      "text/plain": [
       "<Figure size 432x288 with 1 Axes>"
      ]
     },
     "metadata": {
      "needs_background": "light"
     },
     "output_type": "display_data"
    },
    {
     "data": {
      "image/png": "[encoded data removed]",
      "text/plain": [
       "<Figure size 432x288 with 1 Axes>"
      ]
     },
     "metadata": {
      "needs_background": "light"
     },
     "output_type": "display_data"
    }
   ],
   "source": [
    "import matplotlib.pyplot as plt\n",
    "# 以視覺畫方式檢視訓練過程\n",
    "\n",
    "train_loss = model.history.history[\"loss\"]\n",
    "valid_loss = model.history.history[\"val_loss\"]\n",
    "\n",
    "train_acc = model.history.history[\"accuracy\"]\n",
    "valid_acc = model.history.history[\"val_accuracy\"]\n",
    "\n",
    "plt.plot(range(len(train_loss)), train_loss, label=\"train loss\")\n",
    "plt.plot(range(len(valid_loss)), valid_loss, label=\"valid loss\")\n",
    "plt.legend()\n",
    "plt.title(\"Loss\")\n",
    "plt.show()\n",
    "\n",
    "plt.plot(range(len(train_acc)), train_acc, label=\"train accuracy\")\n",
    "plt.plot(range(len(valid_acc)), valid_acc, label=\"valid accuracy\")\n",
    "plt.legend()\n",
    "plt.title(\"Accuracy\")\n",
    "plt.show()"
   ]
  },
  {
   "cell_type": "code",
   "execution_count": null,
   "metadata": {},
   "outputs": [],
   "source": []
  }
 ],
 "metadata": {
  "kernelspec": {
   "display_name": "Python 3",
   "language": "python",
   "name": "python3"
  },
  "language_info": {
   "codemirror_mode": {
    "name": "ipython",
    "version": 3
   },
   "file_extension": ".py",
   "mimetype": "text/x-python",
   "name": "python",
   "nbconvert_exporter": "python",
   "pygments_lexer": "ipython3",
   "version": "3.7.5"
  }
 },
 "nbformat": 4,
 "nbformat_minor": 2
}
