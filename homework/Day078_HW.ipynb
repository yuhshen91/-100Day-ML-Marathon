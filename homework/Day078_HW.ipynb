{
 "cells": [
  {
   "cell_type": "markdown",
   "metadata": {},
   "source": [
    "## Work\n",
    "1. 請嘗試將 preproc_x 替換成以每筆資料的 min/max 進行標準化至 -1 ~ 1 間，再進行訓練\n",
    "2. 請嘗試將 mlp 疊更深 (e.g 5~10 層)，進行訓練後觀察 learning curve 的走勢\n",
    "3. (optional) 請改用 GPU 進行訓練 (如果你有 GPU 的話)，比較使用 CPU 與 GPU 的訓練速度"
   ]
  },
  {
   "cell_type": "code",
   "execution_count": 1,
   "metadata": {},
   "outputs": [
    {
     "name": "stderr",
     "output_type": "stream",
     "text": [
      "'nvidia-smi' is not recognized as an internal or external command,\n",
      "operable program or batch file.\n"
     ]
    }
   ],
   "source": [
    "## \n",
    "\"\"\"\n",
    "Your code here (optional)\n",
    "確認硬體資源\n",
    "\"\"\"\n",
    "!nvidia-smi"
   ]
  },
  {
   "cell_type": "code",
   "execution_count": 1,
   "metadata": {},
   "outputs": [
    {
     "name": "stderr",
     "output_type": "stream",
     "text": [
      "Using TensorFlow backend.\n"
     ]
    }
   ],
   "source": [
    "import os\n",
    "import keras\n",
    "\n",
    "# 請嘗試設定 GPU：os.environ\n",
    "os.environ[\"CUDA_VISIBLE_DEVICES\"] = \"-1\""
   ]
  },
  {
   "cell_type": "code",
   "execution_count": 2,
   "metadata": {},
   "outputs": [],
   "source": [
    "train, test = keras.datasets.cifar10.load_data()\n",
    "x_train, y_train = train"
   ]
  },
  {
   "cell_type": "code",
   "execution_count": 11,
   "metadata": {},
   "outputs": [],
   "source": [
    "## 資料前處理\n",
    "from sklearn import preprocessing\n",
    "def preproc_x(x,flatten=True):\n",
    "    x=((x-x.min())/(x.max()-x.min()))\n",
    "    x=x/255\n",
    "    if flatten:\n",
    "        x = x.reshape((len(x), -1))\n",
    "    return x\n",
    "\n",
    "def preproc_y(y,num=10):\n",
    "    y=keras.utils.to_categorical(y,num)\n",
    "    return y"
   ]
  },
  {
   "cell_type": "code",
   "execution_count": 12,
   "metadata": {},
   "outputs": [],
   "source": [
    "x_train, y_train = train\n",
    "x_test, y_test = test\n",
    "\n",
    "# Preproc the inputs\n",
    "x_train = preproc_x(x_train)\n",
    "x_test = preproc_x(x_test)\n",
    "\n",
    "# Preprc the outputs\n",
    "y_train = preproc_y(y_train)\n",
    "y_test = preproc_y(y_test)"
   ]
  },
  {
   "cell_type": "code",
   "execution_count": 13,
   "metadata": {},
   "outputs": [
    {
     "name": "stdout",
     "output_type": "stream",
     "text": [
      "WARNING:tensorflow:From D:\\ProgramData\\Anaconda3\\lib\\site-packages\\tensorflow_core\\python\\ops\\resource_variable_ops.py:1630: calling BaseResourceVariable.__init__ (from tensorflow.python.ops.resource_variable_ops) with constraint is deprecated and will be removed in a future version.\n",
      "Instructions for updating:\n",
      "If using Keras pass *_constraint arguments to layers.\n",
      "Model: \"model_1\"\n",
      "_________________________________________________________________\n",
      "Layer (type)                 Output Shape              Param #   \n",
      "=================================================================\n",
      "input_1 (InputLayer)         (None, 3072)              0         \n",
      "_________________________________________________________________\n",
      "dense_1 (Dense)              (None, 512)               1573376   \n",
      "_________________________________________________________________\n",
      "dense_2 (Dense)              (None, 256)               131328    \n",
      "_________________________________________________________________\n",
      "dense_3 (Dense)              (None, 128)               32896     \n",
      "_________________________________________________________________\n",
      "dense_4 (Dense)              (None, 10)                1290      \n",
      "=================================================================\n",
      "Total params: 1,738,890\n",
      "Trainable params: 1,738,890\n",
      "Non-trainable params: 0\n",
      "_________________________________________________________________\n"
     ]
    },
    {
     "name": "stderr",
     "output_type": "stream",
     "text": [
      "D:\\ProgramData\\Anaconda3\\lib\\site-packages\\ipykernel_launcher.py:10: UserWarning: Update your `Model` call to the Keras 2 API: `Model(inputs=[<tf.Tenso..., outputs=[<tf.Tenso...)`\n",
      "  # Remove the CWD from sys.path while we load stuff.\n"
     ]
    }
   ],
   "source": [
    "\"\"\"Code Here\n",
    "建立你的神經網路\n",
    "\"\"\"\n",
    "def build_mlp():\n",
    "    input_layer=keras.layers.Input([x_train.shape[-1]])\n",
    "    x=keras.layers.Dense(activation=\"relu\",units=512)(input_layer)\n",
    "    x=keras.layers.Dense(activation=\"relu\",units=256)(x)\n",
    "    x=keras.layers.Dense(activation=\"relu\",units=128)(x)\n",
    "    out=keras.layers.Dense(activation=\"softmax\",units=10)(x)\n",
    "    model=keras.models.Model(input=[input_layer],output=[out])\n",
    "    return model\n",
    "    \n",
    "model=build_mlp()\n",
    "model.compile(optimizer=keras.optimizers.Adam(lr=0.001),loss=[\"categorical_crossentropy\"],metrics=[\"accuracy\"])\n",
    "model.summary()"
   ]
  },
  {
   "cell_type": "code",
   "execution_count": 14,
   "metadata": {},
   "outputs": [],
   "source": [
    "## 超參數設定\n",
    "LEARNING_RATE = 0.001\n",
    "EPOCHS = 100\n",
    "BATCH_SIZE = 256"
   ]
  },
  {
   "cell_type": "code",
   "execution_count": 15,
   "metadata": {},
   "outputs": [],
   "source": [
    "optimizer = keras.optimizers.Adam(lr=LEARNING_RATE)\n",
    "model.compile(loss=\"categorical_crossentropy\", metrics=[\"accuracy\"], optimizer=optimizer)"
   ]
  },
  {
   "cell_type": "code",
   "execution_count": 16,
   "metadata": {},
   "outputs": [
    {
     "name": "stdout",
     "output_type": "stream",
     "text": [
      "WARNING:tensorflow:From D:\\ProgramData\\Anaconda3\\lib\\site-packages\\keras\\backend\\tensorflow_backend.py:422: The name tf.global_variables is deprecated. Please use tf.compat.v1.global_variables instead.\n",
      "\n",
      "Train on 50000 samples, validate on 10000 samples\n",
      "Epoch 1/100\n",
      "50000/50000 [==============================] - 8s 166us/step - loss: 2.0307 - accuracy: 0.2416 - val_loss: 1.9255 - val_accuracy: 0.3007\n",
      "Epoch 2/100\n",
      "50000/50000 [==============================] - 9s 182us/step - loss: 1.8702 - accuracy: 0.3199 - val_loss: 1.8249 - val_accuracy: 0.3349\n",
      "Epoch 3/100\n",
      "50000/50000 [==============================] - 8s 168us/step - loss: 1.7890 - accuracy: 0.3498 - val_loss: 1.7536 - val_accuracy: 0.3586\n",
      "Epoch 4/100\n",
      "50000/50000 [==============================] - 9s 185us/step - loss: 1.7257 - accuracy: 0.3718 - val_loss: 1.6858 - val_accuracy: 0.3860\n",
      "Epoch 5/100\n",
      "50000/50000 [==============================] - 9s 190us/step - loss: 1.6769 - accuracy: 0.3905 - val_loss: 1.6657 - val_accuracy: 0.3958\n",
      "Epoch 6/100\n",
      "50000/50000 [==============================] - 8s 166us/step - loss: 1.6341 - accuracy: 0.4080 - val_loss: 1.5993 - val_accuracy: 0.4229\n",
      "Epoch 7/100\n",
      "50000/50000 [==============================] - 10s 199us/step - loss: 1.5987 - accuracy: 0.4227 - val_loss: 1.5787 - val_accuracy: 0.4383\n",
      "Epoch 8/100\n",
      "50000/50000 [==============================] - 10s 199us/step - loss: 1.5635 - accuracy: 0.4371 - val_loss: 1.5483 - val_accuracy: 0.4520\n",
      "Epoch 9/100\n",
      "50000/50000 [==============================] - 11s 220us/step - loss: 1.5295 - accuracy: 0.4512 - val_loss: 1.5436 - val_accuracy: 0.4430\n",
      "Epoch 10/100\n",
      "50000/50000 [==============================] - 11s 228us/step - loss: 1.4971 - accuracy: 0.4620 - val_loss: 1.5122 - val_accuracy: 0.4575\n",
      "Epoch 11/100\n",
      "50000/50000 [==============================] - 9s 183us/step - loss: 1.4786 - accuracy: 0.4701 - val_loss: 1.4858 - val_accuracy: 0.4702\n",
      "Epoch 12/100\n",
      "50000/50000 [==============================] - 9s 180us/step - loss: 1.4566 - accuracy: 0.4733 - val_loss: 1.4792 - val_accuracy: 0.4717\n",
      "Epoch 13/100\n",
      "50000/50000 [==============================] - 10s 197us/step - loss: 1.4308 - accuracy: 0.4855 - val_loss: 1.4521 - val_accuracy: 0.4885\n",
      "Epoch 14/100\n",
      "50000/50000 [==============================] - 9s 187us/step - loss: 1.4132 - accuracy: 0.4929 - val_loss: 1.4494 - val_accuracy: 0.4828\n",
      "Epoch 15/100\n",
      "50000/50000 [==============================] - 10s 193us/step - loss: 1.3912 - accuracy: 0.5018 - val_loss: 1.4190 - val_accuracy: 0.4930\n",
      "Epoch 16/100\n",
      "50000/50000 [==============================] - 9s 180us/step - loss: 1.3757 - accuracy: 0.5060 - val_loss: 1.4087 - val_accuracy: 0.5015\n",
      "Epoch 17/100\n",
      "50000/50000 [==============================] - 10s 208us/step - loss: 1.3564 - accuracy: 0.5133 - val_loss: 1.3840 - val_accuracy: 0.5068\n",
      "Epoch 18/100\n",
      "50000/50000 [==============================] - 10s 199us/step - loss: 1.3457 - accuracy: 0.5180 - val_loss: 1.4015 - val_accuracy: 0.5027\n",
      "Epoch 19/100\n",
      "50000/50000 [==============================] - 9s 182us/step - loss: 1.3228 - accuracy: 0.5251 - val_loss: 1.4238 - val_accuracy: 0.4956\n",
      "Epoch 20/100\n",
      "50000/50000 [==============================] - 11s 230us/step - loss: 1.3144 - accuracy: 0.5282 - val_loss: 1.3873 - val_accuracy: 0.5020\n",
      "Epoch 21/100\n",
      "50000/50000 [==============================] - 10s 199us/step - loss: 1.2987 - accuracy: 0.5355 - val_loss: 1.3640 - val_accuracy: 0.5088\n",
      "Epoch 22/100\n",
      "50000/50000 [==============================] - 11s 212us/step - loss: 1.2843 - accuracy: 0.5402 - val_loss: 1.3438 - val_accuracy: 0.5224\n",
      "Epoch 23/100\n",
      "50000/50000 [==============================] - 10s 207us/step - loss: 1.2646 - accuracy: 0.5455 - val_loss: 1.3831 - val_accuracy: 0.5107\n",
      "Epoch 24/100\n",
      "50000/50000 [==============================] - 10s 204us/step - loss: 1.2494 - accuracy: 0.5518 - val_loss: 1.3334 - val_accuracy: 0.5241\n",
      "Epoch 25/100\n",
      "50000/50000 [==============================] - 10s 207us/step - loss: 1.2454 - accuracy: 0.5554 - val_loss: 1.3321 - val_accuracy: 0.5284\n",
      "Epoch 26/100\n",
      "50000/50000 [==============================] - 9s 174us/step - loss: 1.2305 - accuracy: 0.5598 - val_loss: 1.3543 - val_accuracy: 0.5215\n",
      "Epoch 27/100\n",
      "50000/50000 [==============================] - 10s 197us/step - loss: 1.2087 - accuracy: 0.5691 - val_loss: 1.3497 - val_accuracy: 0.5241\n",
      "Epoch 28/100\n",
      "50000/50000 [==============================] - 10s 194us/step - loss: 1.2045 - accuracy: 0.5692 - val_loss: 1.3440 - val_accuracy: 0.5233\n",
      "Epoch 29/100\n",
      "50000/50000 [==============================] - 9s 189us/step - loss: 1.1926 - accuracy: 0.5742 - val_loss: 1.3341 - val_accuracy: 0.5225\n",
      "Epoch 30/100\n",
      "50000/50000 [==============================] - 9s 184us/step - loss: 1.1775 - accuracy: 0.5801 - val_loss: 1.3406 - val_accuracy: 0.5280\n",
      "Epoch 31/100\n",
      "50000/50000 [==============================] - 9s 189us/step - loss: 1.1709 - accuracy: 0.5816 - val_loss: 1.3697 - val_accuracy: 0.5161\n",
      "Epoch 32/100\n",
      "50000/50000 [==============================] - 10s 190us/step - loss: 1.1589 - accuracy: 0.5852 - val_loss: 1.3455 - val_accuracy: 0.5278\n",
      "Epoch 33/100\n",
      "50000/50000 [==============================] - 10s 205us/step - loss: 1.1450 - accuracy: 0.5903 - val_loss: 1.3722 - val_accuracy: 0.5213\n",
      "Epoch 34/100\n",
      "50000/50000 [==============================] - 11s 226us/step - loss: 1.1367 - accuracy: 0.5935 - val_loss: 1.3401 - val_accuracy: 0.5288\n",
      "Epoch 35/100\n",
      "50000/50000 [==============================] - 14s 289us/step - loss: 1.1233 - accuracy: 0.5995 - val_loss: 1.3338 - val_accuracy: 0.5318\n",
      "Epoch 36/100\n",
      "50000/50000 [==============================] - 14s 274us/step - loss: 1.1083 - accuracy: 0.6037 - val_loss: 1.3119 - val_accuracy: 0.5382\n",
      "Epoch 37/100\n",
      "50000/50000 [==============================] - 13s 253us/step - loss: 1.0946 - accuracy: 0.6108 - val_loss: 1.3612 - val_accuracy: 0.5239\n",
      "Epoch 38/100\n",
      "50000/50000 [==============================] - 15s 293us/step - loss: 1.0965 - accuracy: 0.6086 - val_loss: 1.3004 - val_accuracy: 0.5413\n",
      "Epoch 39/100\n",
      "50000/50000 [==============================] - 14s 281us/step - loss: 1.0745 - accuracy: 0.6151 - val_loss: 1.3266 - val_accuracy: 0.5361\n",
      "Epoch 40/100\n",
      "50000/50000 [==============================] - 13s 266us/step - loss: 1.0666 - accuracy: 0.6175 - val_loss: 1.3541 - val_accuracy: 0.5290\n",
      "Epoch 41/100\n",
      "50000/50000 [==============================] - 13s 268us/step - loss: 1.0535 - accuracy: 0.6217 - val_loss: 1.2970 - val_accuracy: 0.5489\n",
      "Epoch 42/100\n",
      "50000/50000 [==============================] - 13s 261us/step - loss: 1.0431 - accuracy: 0.6261 - val_loss: 1.3642 - val_accuracy: 0.5293\n",
      "Epoch 43/100\n",
      "50000/50000 [==============================] - 11s 220us/step - loss: 1.0331 - accuracy: 0.6299 - val_loss: 1.3131 - val_accuracy: 0.5409\n",
      "Epoch 44/100\n",
      "50000/50000 [==============================] - 11s 219us/step - loss: 1.0275 - accuracy: 0.6317 - val_loss: 1.3409 - val_accuracy: 0.5330\n",
      "Epoch 45/100\n",
      "50000/50000 [==============================] - 13s 252us/step - loss: 1.0069 - accuracy: 0.6380 - val_loss: 1.3251 - val_accuracy: 0.5441\n",
      "Epoch 46/100\n",
      "50000/50000 [==============================] - 12s 245us/step - loss: 1.0120 - accuracy: 0.6369 - val_loss: 1.3174 - val_accuracy: 0.5467\n",
      "Epoch 47/100\n",
      "50000/50000 [==============================] - 13s 263us/step - loss: 0.9949 - accuracy: 0.6449 - val_loss: 1.3149 - val_accuracy: 0.5459\n",
      "Epoch 48/100\n",
      "50000/50000 [==============================] - 11s 216us/step - loss: 0.9944 - accuracy: 0.6424 - val_loss: 1.3479 - val_accuracy: 0.5365\n",
      "Epoch 49/100\n",
      "50000/50000 [==============================] - 12s 236us/step - loss: 0.9698 - accuracy: 0.6531 - val_loss: 1.3455 - val_accuracy: 0.5344\n",
      "Epoch 50/100\n",
      "50000/50000 [==============================] - 11s 228us/step - loss: 0.9628 - accuracy: 0.6568 - val_loss: 1.3471 - val_accuracy: 0.5333\n",
      "Epoch 51/100\n",
      "50000/50000 [==============================] - 11s 215us/step - loss: 0.9520 - accuracy: 0.6598 - val_loss: 1.3627 - val_accuracy: 0.5345\n",
      "Epoch 52/100\n",
      "50000/50000 [==============================] - 11s 225us/step - loss: 0.9480 - accuracy: 0.6606 - val_loss: 1.3547 - val_accuracy: 0.5398\n",
      "Epoch 53/100\n",
      "50000/50000 [==============================] - 12s 234us/step - loss: 0.9359 - accuracy: 0.6639 - val_loss: 1.3483 - val_accuracy: 0.5406\n"
     ]
    },
    {
     "name": "stdout",
     "output_type": "stream",
     "text": [
      "Epoch 54/100\n",
      "50000/50000 [==============================] - 10s 193us/step - loss: 0.9252 - accuracy: 0.6689 - val_loss: 1.4304 - val_accuracy: 0.5191\n",
      "Epoch 55/100\n",
      "50000/50000 [==============================] - 10s 204us/step - loss: 0.9227 - accuracy: 0.6692 - val_loss: 1.3483 - val_accuracy: 0.5463\n",
      "Epoch 56/100\n",
      "50000/50000 [==============================] - 9s 185us/step - loss: 0.9048 - accuracy: 0.6771 - val_loss: 1.3455 - val_accuracy: 0.5426\n",
      "Epoch 57/100\n",
      "50000/50000 [==============================] - 11s 212us/step - loss: 0.9019 - accuracy: 0.6781 - val_loss: 1.3592 - val_accuracy: 0.5368\n",
      "Epoch 58/100\n",
      "50000/50000 [==============================] - 9s 188us/step - loss: 0.8886 - accuracy: 0.6824 - val_loss: 1.3835 - val_accuracy: 0.5326\n",
      "Epoch 59/100\n",
      "50000/50000 [==============================] - 9s 171us/step - loss: 0.8899 - accuracy: 0.6796 - val_loss: 1.3738 - val_accuracy: 0.5395\n",
      "Epoch 60/100\n",
      "50000/50000 [==============================] - 10s 195us/step - loss: 0.8653 - accuracy: 0.6904 - val_loss: 1.3539 - val_accuracy: 0.5450\n",
      "Epoch 61/100\n",
      "50000/50000 [==============================] - 11s 228us/step - loss: 0.8569 - accuracy: 0.6928 - val_loss: 1.4279 - val_accuracy: 0.5319\n",
      "Epoch 62/100\n",
      "50000/50000 [==============================] - 11s 218us/step - loss: 0.8527 - accuracy: 0.6928 - val_loss: 1.3935 - val_accuracy: 0.5367\n",
      "Epoch 63/100\n",
      "50000/50000 [==============================] - 11s 214us/step - loss: 0.8371 - accuracy: 0.7020 - val_loss: 1.3861 - val_accuracy: 0.5411\n",
      "Epoch 64/100\n",
      "50000/50000 [==============================] - 9s 189us/step - loss: 0.8308 - accuracy: 0.7031 - val_loss: 1.4189 - val_accuracy: 0.5382\n",
      "Epoch 65/100\n",
      "50000/50000 [==============================] - 9s 189us/step - loss: 0.8279 - accuracy: 0.7022 - val_loss: 1.4322 - val_accuracy: 0.5374\n",
      "Epoch 66/100\n",
      "50000/50000 [==============================] - 10s 192us/step - loss: 0.8088 - accuracy: 0.7127 - val_loss: 1.4340 - val_accuracy: 0.5368\n",
      "Epoch 67/100\n",
      "50000/50000 [==============================] - 9s 181us/step - loss: 0.8067 - accuracy: 0.7114 - val_loss: 1.4296 - val_accuracy: 0.5384\n",
      "Epoch 68/100\n",
      "50000/50000 [==============================] - 10s 193us/step - loss: 0.7964 - accuracy: 0.7142 - val_loss: 1.4191 - val_accuracy: 0.5330\n",
      "Epoch 69/100\n",
      "50000/50000 [==============================] - 9s 177us/step - loss: 0.7937 - accuracy: 0.7162 - val_loss: 1.4217 - val_accuracy: 0.5426\n",
      "Epoch 70/100\n",
      "50000/50000 [==============================] - 8s 167us/step - loss: 0.7858 - accuracy: 0.7191 - val_loss: 1.4203 - val_accuracy: 0.5305\n",
      "Epoch 71/100\n",
      "50000/50000 [==============================] - 9s 181us/step - loss: 0.7724 - accuracy: 0.7234 - val_loss: 1.4496 - val_accuracy: 0.5351\n",
      "Epoch 72/100\n",
      "50000/50000 [==============================] - 9s 184us/step - loss: 0.7692 - accuracy: 0.7268 - val_loss: 1.4914 - val_accuracy: 0.5303\n",
      "Epoch 73/100\n",
      "50000/50000 [==============================] - 9s 171us/step - loss: 0.7522 - accuracy: 0.7311 - val_loss: 1.4765 - val_accuracy: 0.5319\n",
      "Epoch 74/100\n",
      "50000/50000 [==============================] - 9s 172us/step - loss: 0.7442 - accuracy: 0.7344 - val_loss: 1.4552 - val_accuracy: 0.5419\n",
      "Epoch 75/100\n",
      "50000/50000 [==============================] - 9s 186us/step - loss: 0.7307 - accuracy: 0.7401 - val_loss: 1.4714 - val_accuracy: 0.5424\n",
      "Epoch 76/100\n",
      "50000/50000 [==============================] - 11s 218us/step - loss: 0.7294 - accuracy: 0.7394 - val_loss: 1.4977 - val_accuracy: 0.5337\n",
      "Epoch 77/100\n",
      "50000/50000 [==============================] - 10s 195us/step - loss: 0.7210 - accuracy: 0.7407 - val_loss: 1.5276 - val_accuracy: 0.5231\n",
      "Epoch 78/100\n",
      "50000/50000 [==============================] - 9s 186us/step - loss: 0.7080 - accuracy: 0.7471 - val_loss: 1.4927 - val_accuracy: 0.5349\n",
      "Epoch 79/100\n",
      "50000/50000 [==============================] - 9s 189us/step - loss: 0.7049 - accuracy: 0.7498 - val_loss: 1.4972 - val_accuracy: 0.5384\n",
      "Epoch 80/100\n",
      "50000/50000 [==============================] - 10s 204us/step - loss: 0.6963 - accuracy: 0.7528 - val_loss: 1.5021 - val_accuracy: 0.5403\n",
      "Epoch 81/100\n",
      "50000/50000 [==============================] - 11s 217us/step - loss: 0.6841 - accuracy: 0.7557 - val_loss: 1.5547 - val_accuracy: 0.5261\n",
      "Epoch 82/100\n",
      "50000/50000 [==============================] - 9s 189us/step - loss: 0.6809 - accuracy: 0.7598 - val_loss: 1.5667 - val_accuracy: 0.5279\n",
      "Epoch 83/100\n",
      "50000/50000 [==============================] - 10s 209us/step - loss: 0.6716 - accuracy: 0.7594 - val_loss: 1.5539 - val_accuracy: 0.5339\n",
      "Epoch 84/100\n",
      "50000/50000 [==============================] - 9s 189us/step - loss: 0.6582 - accuracy: 0.7674 - val_loss: 1.5935 - val_accuracy: 0.5286\n",
      "Epoch 85/100\n",
      "50000/50000 [==============================] - 9s 179us/step - loss: 0.6554 - accuracy: 0.7670 - val_loss: 1.6322 - val_accuracy: 0.5326\n",
      "Epoch 86/100\n",
      "50000/50000 [==============================] - 10s 199us/step - loss: 0.6436 - accuracy: 0.7710 - val_loss: 1.6164 - val_accuracy: 0.5283\n",
      "Epoch 87/100\n",
      "50000/50000 [==============================] - 9s 189us/step - loss: 0.6398 - accuracy: 0.7722 - val_loss: 1.5836 - val_accuracy: 0.5366\n",
      "Epoch 88/100\n",
      "50000/50000 [==============================] - 10s 199us/step - loss: 0.6338 - accuracy: 0.7748 - val_loss: 1.5991 - val_accuracy: 0.5327\n",
      "Epoch 89/100\n",
      "50000/50000 [==============================] - 11s 222us/step - loss: 0.6205 - accuracy: 0.7796 - val_loss: 1.6329 - val_accuracy: 0.5311\n",
      "Epoch 90/100\n",
      "50000/50000 [==============================] - 12s 247us/step - loss: 0.6187 - accuracy: 0.7805 - val_loss: 1.6238 - val_accuracy: 0.5349\n",
      "Epoch 91/100\n",
      "50000/50000 [==============================] - 9s 189us/step - loss: 0.6021 - accuracy: 0.7844 - val_loss: 1.6454 - val_accuracy: 0.5306\n",
      "Epoch 92/100\n",
      "50000/50000 [==============================] - 10s 195us/step - loss: 0.6020 - accuracy: 0.7857 - val_loss: 1.6098 - val_accuracy: 0.5353\n",
      "Epoch 93/100\n",
      "50000/50000 [==============================] - 10s 194us/step - loss: 0.5901 - accuracy: 0.7906 - val_loss: 1.7112 - val_accuracy: 0.5249\n",
      "Epoch 94/100\n",
      "50000/50000 [==============================] - 10s 205us/step - loss: 0.5891 - accuracy: 0.7913 - val_loss: 1.6410 - val_accuracy: 0.5364\n",
      "Epoch 95/100\n",
      "50000/50000 [==============================] - 9s 187us/step - loss: 0.5661 - accuracy: 0.7992 - val_loss: 1.6813 - val_accuracy: 0.5360\n",
      "Epoch 96/100\n",
      "50000/50000 [==============================] - 10s 204us/step - loss: 0.5661 - accuracy: 0.8017 - val_loss: 1.7289 - val_accuracy: 0.5271\n",
      "Epoch 97/100\n",
      "50000/50000 [==============================] - 10s 206us/step - loss: 0.5564 - accuracy: 0.8031 - val_loss: 1.8412 - val_accuracy: 0.5102\n",
      "Epoch 98/100\n",
      "50000/50000 [==============================] - 8s 165us/step - loss: 0.5523 - accuracy: 0.8025 - val_loss: 1.7231 - val_accuracy: 0.5315\n",
      "Epoch 99/100\n",
      "50000/50000 [==============================] - 9s 176us/step - loss: 0.5354 - accuracy: 0.8106 - val_loss: 1.7486 - val_accuracy: 0.5315\n",
      "Epoch 100/100\n",
      "50000/50000 [==============================] - 10s 208us/step - loss: 0.5469 - accuracy: 0.8050 - val_loss: 1.8202 - val_accuracy: 0.5254\n"
     ]
    },
    {
     "data": {
      "text/plain": [
       "<keras.callbacks.callbacks.History at 0x24c5f63be08>"
      ]
     },
     "execution_count": 16,
     "metadata": {},
     "output_type": "execute_result"
    }
   ],
   "source": [
    "model.fit(x_train, y_train, \n",
    "          epochs=EPOCHS, \n",
    "          batch_size=BATCH_SIZE, \n",
    "          validation_data=(x_test, y_test), \n",
    "          shuffle=True)"
   ]
  },
  {
   "cell_type": "code",
   "execution_count": 18,
   "metadata": {},
   "outputs": [
    {
     "data": {
      "image/png": "[encoded data removed]",
      "text/plain": [
       "<Figure size 432x288 with 1 Axes>"
      ]
     },
     "metadata": {
      "needs_background": "light"
     },
     "output_type": "display_data"
    },
    {
     "data": {
      "image/png": "[encoded data removed]",
      "text/plain": [
       "<Figure size 432x288 with 1 Axes>"
      ]
     },
     "metadata": {
      "needs_background": "light"
     },
     "output_type": "display_data"
    }
   ],
   "source": [
    "import matplotlib.pyplot as plt\n",
    "\n",
    "\n",
    "train_loss = model.history.history[\"loss\"]\n",
    "valid_loss = model.history.history[\"val_loss\"]\n",
    "\n",
    "train_acc = model.history.history[\"accuracy\"]\n",
    "valid_acc = model.history.history[\"val_accuracy\"]\n",
    "\n",
    "plt.plot(range(len(train_loss)), train_loss, label=\"train loss\")\n",
    "plt.plot(range(len(valid_loss)), valid_loss, label=\"valid loss\")\n",
    "plt.legend()\n",
    "plt.title(\"Loss\")\n",
    "plt.show()\n",
    "\n",
    "plt.plot(range(len(train_acc)), train_acc, label=\"train accuracy\")\n",
    "plt.plot(range(len(valid_acc)), valid_acc, label=\"valid accuracy\")\n",
    "plt.legend()\n",
    "plt.title(\"Accuracy\")\n",
    "plt.show()"
   ]
  },
  {
   "cell_type": "code",
   "execution_count": null,
   "metadata": {},
   "outputs": [],
   "source": []
  }
 ],
 "metadata": {
  "kernelspec": {
   "display_name": "Python 3",
   "language": "python",
   "name": "python3"
  },
  "language_info": {
   "codemirror_mode": {
    "name": "ipython",
    "version": 3
   },
   "file_extension": ".py",
   "mimetype": "text/x-python",
   "name": "python",
   "nbconvert_exporter": "python",
   "pygments_lexer": "ipython3",
   "version": "3.7.5"
  }
 },
 "nbformat": 4,
 "nbformat_minor": 2
}
